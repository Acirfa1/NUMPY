{
 "cells": [
  {
   "cell_type": "markdown",
   "id": "176310f0",
   "metadata": {},
   "source": [
    "# Boolean arrays: Fancy indexing and masking"
   ]
  },
  {
   "cell_type": "raw",
   "id": "c701d8e5",
   "metadata": {},
   "source": [
    "# BOOLEAN ARRAYS: We all know boolean as answering the true or false question, equipped with the basic knowledge let us now look at how Boolean works in Numpy. \n",
    "   Numpy actually allows you to use an array of a boolean value as an index of another array. Each element of the boolean array indicates whether or not to select the elements from the array, if FALSE the element of that value is not picked while if true(VICE VERSA)."
   ]
  },
  {
   "cell_type": "code",
   "execution_count": 2,
   "id": "fe41f30f",
   "metadata": {},
   "outputs": [
    {
     "name": "stdout",
     "output_type": "stream",
     "text": [
      "[1 2]\n"
     ]
    }
   ],
   "source": [
    "import numpy as np\n",
    "a = np.array([1, 2, 3])\n",
    "b = np.array([True, True, False])\n",
    "c = a[b]\n",
    "print(c)\n",
    "# It isn't going to pick 3 cause the False element tells it to ignore that particular value"
   ]
  },
  {
   "cell_type": "code",
   "execution_count": 3,
   "id": "114f5001",
   "metadata": {},
   "outputs": [
    {
     "name": "stdout",
     "output_type": "stream",
     "text": [
      "[False False False False False  True  True  True  True]\n",
      "[6 7 8 9]\n"
     ]
    }
   ],
   "source": [
    "# USING BOOLEAN TO FILTER AN ARRAY\n",
    "a = np.arange(1, 10)\n",
    "b =  a>5\n",
    "print(b)\n",
    "\n",
    "c= a[b]\n",
    "print(c)\n",
    "# It gives the true element to all values following the given parameter in B whileignoringtherest"
   ]
  },
  {
   "cell_type": "raw",
   "id": "7bca62b0",
   "metadata": {},
   "source": [
    "FANCY INDEXING: Unlike the name implies FANCY INDEXING allows us to use an array of indices to access multiple array elements at once. It can perform more advanced and efficient array operations, including conditional featuring and so on."
   ]
  },
  {
   "cell_type": "code",
   "execution_count": 5,
   "id": "ea51a156",
   "metadata": {},
   "outputs": [
    {
     "name": "stdout",
     "output_type": "stream",
     "text": [
      "[3 6 8]\n"
     ]
    }
   ],
   "source": [
    "# Using fancy indexing to select multiple elements\n",
    "arr = np.array([1,2,3,4,5,6,7,8,9])\n",
    "# To select elements at index 1,2,5,7\n",
    "select_elements = arr[[2,5,7]]\n",
    "print(select_elements)\n",
    "# This picks out the elements at the specified index"
   ]
  },
  {
   "cell_type": "code",
   "execution_count": 9,
   "id": "66ada24b",
   "metadata": {},
   "outputs": [
    {
     "name": "stdout",
     "output_type": "stream",
     "text": [
      "[1 2 3 5 6 7 8 9]\n",
      "[9 8 7 6 5 3 2 1]\n"
     ]
    }
   ],
   "source": [
    "# FANCY INDEXING FOR SORTING NUMPY ARRAY\n",
    "arr1 = np.array([3,2,5,7,8,9,6,1])\n",
    "# sorting array using fancy indexing\n",
    "sorted_arr1 = arr1[np.argsort(arr1)]# It arranges the array from ascending to descending order\n",
    "print(sorted_arr1)\n",
    "\n",
    "sorted_arr1 = arr1[np.argsort(-arr1)]# It arranges the array from descending to ascending order\n",
    "print(sorted_arr1)"
   ]
  },
  {
   "cell_type": "code",
   "execution_count": 10,
   "id": "b3eaf721",
   "metadata": {},
   "outputs": [
    {
     "name": "stdout",
     "output_type": "stream",
     "text": [
      "[ 3 10  5  6  8  9  9  1]\n"
     ]
    }
   ],
   "source": [
    "# Using fancy indexing to assign specufic new values to specific elements\n",
    "arr1 = np.array([3,2,5,7,8,9,6,1])\n",
    "#Create a list of new indices to assign new values\n",
    "indices = [1, 3, 6]\n",
    "# Create a new array of values to assign\n",
    "new_values = [10,6,9]\n",
    "# NOW useing F.I to assign new values to specific elements\n",
    "arr1[indices] = new_values\n",
    "\n",
    "print(arr1)\n"
   ]
  },
  {
   "cell_type": "markdown",
   "id": "cb02b16d",
   "metadata": {},
   "source": [
    "MASKING: A masked array is the combo of a standard numpy.ndarray and a mask. A mask is either nomask, indicating that no value of the associated array is invalid, or an array of booleans that determines for each element of an associated array whether the value is valid or not. When an element of of the mask is false, the corresponding element of the associated array is valid and said to be unmasked. When an element of the mask is true, the corresponding element of that array is said to be masked(invalid)."
   ]
  },
  {
   "cell_type": "code",
   "execution_count": 13,
   "id": "7f95b6e0",
   "metadata": {},
   "outputs": [
    {
     "data": {
      "text/plain": [
       "3.5"
      ]
     },
     "execution_count": 13,
     "metadata": {},
     "output_type": "execute_result"
    }
   ],
   "source": [
    "import numpy.ma as ma\n",
    "x = np.array([1,2,3,-6,8])\n",
    "# Now it's glaring that the fourth element is invalid or seems inconsistent, now we use masking\n",
    "mx = ma.masked_array(x, mask=[0,0,0,1,0])# 1 is known as false while 0=TRUE\n",
    "# Now we can get the mean of those values while ignoring the inconsistent value or error\n",
    "mx.mean()"
   ]
  },
  {
   "cell_type": "code",
   "execution_count": null,
   "id": "bb7518bd",
   "metadata": {},
   "outputs": [],
   "source": []
  }
 ],
 "metadata": {
  "kernelspec": {
   "display_name": "Python 3 (ipykernel)",
   "language": "python",
   "name": "python3"
  },
  "language_info": {
   "codemirror_mode": {
    "name": "ipython",
    "version": 3
   },
   "file_extension": ".py",
   "mimetype": "text/x-python",
   "name": "python",
   "nbconvert_exporter": "python",
   "pygments_lexer": "ipython3",
   "version": "3.11.4"
  }
 },
 "nbformat": 4,
 "nbformat_minor": 5
}
