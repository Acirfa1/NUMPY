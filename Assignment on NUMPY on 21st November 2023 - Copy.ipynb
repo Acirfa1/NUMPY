{
 "cells": [
  {
   "cell_type": "code",
   "execution_count": 1,
   "id": "914e296d",
   "metadata": {},
   "outputs": [],
   "source": [
    "# HOW TO USE NUMPY TO PICK OUT RANDOM NUMBERS"
   ]
  },
  {
   "cell_type": "code",
   "execution_count": 12,
   "id": "2f8285b6",
   "metadata": {},
   "outputs": [
    {
     "name": "stdout",
     "output_type": "stream",
     "text": [
      "[[0.26357033 0.36215456 0.70983601 0.72904773 0.43733894]\n",
      " [0.6533933  0.60135764 0.98426646 0.99602703 0.28345374]]\n",
      "1\n",
      "0.08665343959306082\n",
      "[ 2  7 19 19]\n",
      "1\n"
     ]
    }
   ],
   "source": [
    "import numpy as nm\n",
    "\n",
    "# Since numpy focuses on array of numbers, let us first generate an array of numbers of a\n",
    "# particular size\n",
    "r_array = nm.random.rand(2,5)\n",
    "\n",
    "print(r_array)#This automatically prints a floating array using the parameters given\n",
    "\n",
    "# Now to generate a random interger we use the random randint() function\n",
    "r_interger = nm.random.randint(20)\n",
    "\n",
    "print(r_interger)\n",
    "\n",
    "# To generate a random float\n",
    "r_float = nm.random.rand()# NB: No parameters were given\n",
    "# This particular one prints floating numbers between 0 and 1\n",
    "print(r_float)\n",
    "\n",
    "# To generate an array of intergers using the randint\n",
    "int_array = nm.random.randint(20, size=(4))\n",
    "\n",
    "print(int_array)# This prints an array of intergers\n",
    "\n",
    "# How to get a random number from an array. \n",
    "# Over here we use the random choice which enables us to pick randomly from an array\n",
    "r_in_an_array = nm.random.choice([1,2,5,34])\n",
    "\n",
    "print(r_in_an_array)"
   ]
  },
  {
   "cell_type": "code",
   "execution_count": 13,
   "id": "6c076a3e",
   "metadata": {},
   "outputs": [],
   "source": [
    "# The use of the enumerate function in NUMPY\n"
   ]
  },
  {
   "cell_type": "code",
   "execution_count": 20,
   "id": "b64a7483",
   "metadata": {},
   "outputs": [
    {
     "name": "stdout",
     "output_type": "stream",
     "text": [
      "(0, 0) 2\n",
      "(0, 1) 4\n",
      "(1, 0) 6\n",
      "(1, 1) 1\n",
      "(0,) 1\n",
      "(1,) 2\n",
      "(2,) 3\n"
     ]
    }
   ],
   "source": [
    "# it shows you the size as in the position of each digit in the area regarding their rows and \n",
    "# columns\n",
    "# This is a 2d array in which we are using the ndenumerate function\n",
    "a = nm.array([[2,4], [6,1]])\n",
    "for i, x in nm.ndenumerate(a):\n",
    "    print(i,x)\n",
    "    \n",
    "#To enumerate a 1D array\n",
    "arr = nm.array([1,2,3])\n",
    "for index, x in nm.ndenumerate(arr):\n",
    "    print(index, x)"
   ]
  },
  {
   "cell_type": "code",
   "execution_count": null,
   "id": "1bf3d862",
   "metadata": {},
   "outputs": [],
   "source": []
  }
 ],
 "metadata": {
  "kernelspec": {
   "display_name": "Python 3 (ipykernel)",
   "language": "python",
   "name": "python3"
  },
  "language_info": {
   "codemirror_mode": {
    "name": "ipython",
    "version": 3
   },
   "file_extension": ".py",
   "mimetype": "text/x-python",
   "name": "python",
   "nbconvert_exporter": "python",
   "pygments_lexer": "ipython3",
   "version": "3.11.4"
  }
 },
 "nbformat": 4,
 "nbformat_minor": 5
}
